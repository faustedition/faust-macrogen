{
 "cells": [
  {
   "cell_type": "code",
   "execution_count": 15,
   "metadata": {},
   "outputs": [
    {
     "name": "stderr",
     "output_type": "stream",
     "text": [
      "\u001b[33mWARNING  macrogen.config Configuration has already been loaded. Some override values may not have any effect.\u001b[0m\n"
     ]
    }
   ],
   "source": [
    "import pandas as pd\n",
    "import macrogen as m\n",
    "positions = pd.read_csv('positions.csv', index_col=0)"
   ]
  },
  {
   "cell_type": "code",
   "execution_count": 2,
   "metadata": {},
   "outputs": [],
   "source": [
    "pos = positions.fillna(0).astype('int16')"
   ]
  },
  {
   "cell_type": "code",
   "execution_count": 3,
   "metadata": {},
   "outputs": [],
   "source": [
    "single_none_order = pos.sort_values(by='single-none').index"
   ]
  },
  {
   "cell_type": "code",
   "execution_count": 4,
   "metadata": {},
   "outputs": [],
   "source": [
    "single_copy_order = pos.sort_values(by='single-copy').index"
   ]
  },
  {
   "cell_type": "code",
   "execution_count": 5,
   "metadata": {},
   "outputs": [],
   "source": [
    "import difflib"
   ]
  },
  {
   "cell_type": "code",
   "execution_count": 6,
   "metadata": {},
   "outputs": [],
   "source": [
    "sm = difflib.SequenceMatcher(a=list(single_none_order), b=list(single_copy_order), autojunk=False)"
   ]
  },
  {
   "cell_type": "code",
   "execution_count": 7,
   "metadata": {},
   "outputs": [],
   "source": [
    "class PositionMatcher(difflib.SequenceMatcher):\n",
    "    def __init__(self, df, a_name, b_name):\n",
    "        self.a_name = a_name\n",
    "        self.b_name = b_name\n",
    "        a = list(df.sort_values(by=a_name).index)\n",
    "        b = list(df.sort_values(by=b_name).index)\n",
    "        super().__init__(a=a, b=b, autojunk=False)\n",
    "        \n",
    "    def _repr_html_(self):\n",
    "        result = f\"<table><thead><tr><th>{self.a_name}</th><th>{self.b_name}</th></thead><tbody>\\n\"\n",
    "        for op, a_start, a_end, b_start, b_end in self.get_opcodes():\n",
    "            if op == 'equal':\n",
    "                result += f'<tr style=\"color:gray\"><td colspan=\"2\">{\"<br/>\".join(self.a[a_start:a_end])}</td></tr>\\n'\n",
    "            elif op == 'delete':\n",
    "                result += f'<tr style=\"color:red\"><td>{\"<br/>\".join(self.a[a_start:a_end])}</td><td /></tr>\\n'\n",
    "            elif op == 'insert':\n",
    "                result += f'<tr style=\"color:green\"><td /><td>{\"<br/>\".join(self.b[b_start:b_end])}</td></tr>\\n'\n",
    "            elif op == 'replace':\n",
    "                result += f'<tr style=\"color:blue\"><td>{\"<br/>\".join(self.a[a_start:a_end])}</td><td>{\"<br/>\".join(self.b[b_start:b_end])}</td></tr>\\n'                \n",
    "        result += \"</tbody></table>\\n\"\n",
    "        return result\n",
    "    \n",
    "    def moved_groups(self):\n",
    "        for op, a_start, a_end, b_start, b_end in self.get_opcodes():\n",
    "            if op == 'insert' or op == 'replace':\n",
    "                yield self.b[b_start:b_end]"
   ]
  },
  {
   "cell_type": "code",
   "execution_count": 8,
   "metadata": {},
   "outputs": [],
   "source": [
    "pm = PositionMatcher(pos, 'single-none', 'single-copy')"
   ]
  },
  {
   "cell_type": "code",
   "execution_count": 9,
   "metadata": {},
   "outputs": [],
   "source": [
    "mg = list(pm.moved_groups())"
   ]
  },
  {
   "cell_type": "code",
   "execution_count": 10,
   "metadata": {},
   "outputs": [
    {
     "data": {
      "text/plain": [
       "(11, 17)"
      ]
     },
     "execution_count": 10,
     "metadata": {},
     "output_type": "execute_result"
    }
   ],
   "source": [
    "len(mg), sum(map(len, mg))"
   ]
  },
  {
   "cell_type": "code",
   "execution_count": 11,
   "metadata": {},
   "outputs": [],
   "source": [
    "def differentiate(pos: pd.DataFrame, reference_column: str):\n",
    "    stats = pd.DataFrame(columns=['ngroups', 'nitems', 'moved'])\n",
    "    stats.name = reference_column\n",
    "    for column in pos.columns.difference(set(reference_column)):\n",
    "        pm = PositionMatcher(pos, reference_column, column)\n",
    "        mg = list(pm.moved_groups())\n",
    "        stats.loc[column, 'ngroups'] = len(mg)\n",
    "        stats.loc[column, 'nitems'] = sum(map(len, mg))\n",
    "        stats.loc[column,  'moved'] = \";    \".join(\", \".join(group) for group in mg)\n",
    "    return stats.sort_values(by='nitems')"
   ]
  },
  {
   "cell_type": "code",
   "execution_count": 85,
   "metadata": {},
   "outputs": [
    {
     "data": {
      "text/html": [
       "<div>\n",
       "<style scoped>\n",
       "    .dataframe tbody tr th:only-of-type {\n",
       "        vertical-align: middle;\n",
       "    }\n",
       "\n",
       "    .dataframe tbody tr th {\n",
       "        vertical-align: top;\n",
       "    }\n",
       "\n",
       "    .dataframe thead th {\n",
       "        text-align: right;\n",
       "    }\n",
       "</style>\n",
       "<table border=\"1\" class=\"dataframe\">\n",
       "  <thead>\n",
       "    <tr style=\"text-align: right;\">\n",
       "      <th></th>\n",
       "      <th>ngroups</th>\n",
       "      <th>nitems</th>\n",
       "      <th>moved</th>\n",
       "    </tr>\n",
       "  </thead>\n",
       "  <tbody>\n",
       "    <tr>\n",
       "      <td>single-copy</td>\n",
       "      <td>0</td>\n",
       "      <td>0</td>\n",
       "      <td></td>\n",
       "    </tr>\n",
       "    <tr>\n",
       "      <td>single-none</td>\n",
       "      <td>11</td>\n",
       "      <td>17</td>\n",
       "      <td>1 H.10;    2 I H.19, 2 I H.20;    2 III H.5, 2...</td>\n",
       "    </tr>\n",
       "    <tr>\n",
       "      <td>single-orphan</td>\n",
       "      <td>11</td>\n",
       "      <td>17</td>\n",
       "      <td>1 H.10;    2 I H.19, 2 I H.20;    2 III H.5, 2...</td>\n",
       "    </tr>\n",
       "    <tr>\n",
       "      <td>single-copy-nearest</td>\n",
       "      <td>6</td>\n",
       "      <td>27</td>\n",
       "      <td>1 H.4, H P20, H P82;    2 V H.32, 2 III H.50b,...</td>\n",
       "    </tr>\n",
       "    <tr>\n",
       "      <td>single-copy-farthest</td>\n",
       "      <td>12</td>\n",
       "      <td>53</td>\n",
       "      <td>1 H.4, H P20, H P82;    2 V H.32, 2 V H.31 i_r...</td>\n",
       "    </tr>\n",
       "    <tr>\n",
       "      <td>single-copy-copy</td>\n",
       "      <td>13</td>\n",
       "      <td>67</td>\n",
       "      <td>1 H.4, H P20, H P82;    2 V H.32, 2 V H.31 i_r...</td>\n",
       "    </tr>\n",
       "    <tr>\n",
       "      <td>split-none</td>\n",
       "      <td>52</td>\n",
       "      <td>187</td>\n",
       "      <td>1 H.10, 1 H.15, 1 H.8;    2 III H.12a, 2 III H...</td>\n",
       "    </tr>\n",
       "    <tr>\n",
       "      <td>split-inline</td>\n",
       "      <td>51</td>\n",
       "      <td>189</td>\n",
       "      <td>1 H.10, 1 H.15, 1 H.8;    2 III H.12a, 2 III H...</td>\n",
       "    </tr>\n",
       "    <tr>\n",
       "      <td>split-inline-low</td>\n",
       "      <td>52</td>\n",
       "      <td>189</td>\n",
       "      <td>1 H.10, 1 H.15, 1 H.8;    2 III H.12a, 2 III H...</td>\n",
       "    </tr>\n",
       "    <tr>\n",
       "      <td>reverse-inline</td>\n",
       "      <td>95</td>\n",
       "      <td>379</td>\n",
       "      <td>1 H.8, wa: 182 i_r_o;    2 III H.12a, 2 III H....</td>\n",
       "    </tr>\n",
       "    <tr>\n",
       "      <td>reverse</td>\n",
       "      <td>86</td>\n",
       "      <td>381</td>\n",
       "      <td>1 H.10, 1 H.8;    2 III H.12a, 2 III H.23a*, 2...</td>\n",
       "    </tr>\n",
       "  </tbody>\n",
       "</table>\n",
       "</div>"
      ],
      "text/plain": [
       "                     ngroups nitems  \\\n",
       "single-copy                0      0   \n",
       "single-none               11     17   \n",
       "single-orphan             11     17   \n",
       "single-copy-nearest        6     27   \n",
       "single-copy-farthest      12     53   \n",
       "single-copy-copy          13     67   \n",
       "split-none                52    187   \n",
       "split-inline              51    189   \n",
       "split-inline-low          52    189   \n",
       "reverse-inline            95    379   \n",
       "reverse                   86    381   \n",
       "\n",
       "                                                                  moved  \n",
       "single-copy                                                              \n",
       "single-none           1 H.10;    2 I H.19, 2 I H.20;    2 III H.5, 2...  \n",
       "single-orphan         1 H.10;    2 I H.19, 2 I H.20;    2 III H.5, 2...  \n",
       "single-copy-nearest   1 H.4, H P20, H P82;    2 V H.32, 2 III H.50b,...  \n",
       "single-copy-farthest  1 H.4, H P20, H P82;    2 V H.32, 2 V H.31 i_r...  \n",
       "single-copy-copy      1 H.4, H P20, H P82;    2 V H.32, 2 V H.31 i_r...  \n",
       "split-none            1 H.10, 1 H.15, 1 H.8;    2 III H.12a, 2 III H...  \n",
       "split-inline          1 H.10, 1 H.15, 1 H.8;    2 III H.12a, 2 III H...  \n",
       "split-inline-low      1 H.10, 1 H.15, 1 H.8;    2 III H.12a, 2 III H...  \n",
       "reverse-inline        1 H.8, wa: 182 i_r_o;    2 III H.12a, 2 III H....  \n",
       "reverse               1 H.10, 1 H.8;    2 III H.12a, 2 III H.23a*, 2...  "
      ]
     },
     "execution_count": 85,
     "metadata": {},
     "output_type": "execute_result"
    }
   ],
   "source": [
    "differentiate(pos, 'single-copy')"
   ]
  },
  {
   "cell_type": "code",
   "execution_count": 13,
   "metadata": {},
   "outputs": [],
   "source": [
    "pm  = PositionMatcher(pos, 'single-copy', 'split-inline')"
   ]
  },
  {
   "cell_type": "code",
   "execution_count": 14,
   "metadata": {},
   "outputs": [
    {
     "data": {
      "text/html": [
       "<table><thead><tr><th>single-copy</th><th>split-inline</th></thead><tbody>\n",
       "<tr style=\"color:green\"><td /><td>1 H.10<br/>1 H.15<br/>1 H.8</td></tr>\n",
       "<tr style=\"color:gray\"><td colspan=\"2\">wa: 182<br/>wa: 182 i_r_o</td></tr>\n",
       "<tr style=\"color:blue\"><td>1 H.8<br/>1 H.15<br/>2 III H.27 alpha<br/>2 III H.30 alpha<br/>2 III H.70 alpha<br/>2 III H.71 alpha<br/>2 II H.69 alpha<br/>2 II H.71 alpha<br/>2 I H.21 alpha<br/>2 I H.32 alpha<br/>2 V H.3 alpha<br/>2 V H.17 i_r<br/>2 IV H.20 i_uebrige<br/>2 IV H.12 i_v_o<br/>fischer_lamberg: 2_III_H.15<br/>wa: 2_H_P167<br/>wa: 2_III_H.2_alpha<br/>wa: 2_II_H.31_alpha<br/>wa: 2_H_P167 i_uebrige<br/>2 I H.0<br/>2 I H.0a<br/>2 I H.0b<br/>2 I H.0c<br/>2 I H.0d<br/>2 I H.2<br/>2 I H.6a<br/>2 I H.10<br/>2 I H.14<br/>2 I H.15b<br/>2 I H.15c<br/>2 I H.16<br/>2 I H.18<br/>2 I H.21<br/>2 I H.23<br/>2 I H.24a<br/>2 I H.49<br/>2 I H.51<br/>2 I H.52<br/>2 I H.53<br/>2 I H.54<br/>2 I H.55<br/>2 II H.2:2<br/>2 II H.5a<br/>2 II H.6a<br/>2 II H.6b</td><td>2 III H.12a<br/>2 III H.2:1<br/>2 III H.2:2<br/>2 III H.3a:1<br/>2 III H.3a:2<br/>2 III H.4<br/>2 III H.45a<br/>2 III H.45b<br/>2 III H.46a<br/>2 III H.46b<br/>2 III H.48<br/>2 III H.49<br/>2 III H.5<br/>2 III H.50<br/>2 III H.60<br/>2 III H.61<br/>2 III H.64e<br/>2 III H.66<br/>2 III H.68<br/>2 III H.69<br/>2 III H.76<br/>2 III H.8<br/>2 III H.81<br/>2 III H.81a<br/>2 III H.81b*</td></tr>\n",
       "<tr style=\"color:gray\"><td colspan=\"2\">2 II H.11a<br/>2 II H.13a<br/>2 II H.16<br/>2 II H.21<br/>2 II H.26</td></tr>\n",
       "<tr style=\"color:green\"><td /><td>2 II H.27:1</td></tr>\n",
       "<tr style=\"color:gray\"><td colspan=\"2\">2 II H.29</td></tr>\n",
       "<tr style=\"color:green\"><td /><td>2 II H.2:2</td></tr>\n",
       "<tr style=\"color:gray\"><td colspan=\"2\">2 II H.30<br/>2 II H.31<br/>2 II H.32<br/>2 II H.37<br/>2 II H.40<br/>2 II H.43<br/>2 II H.44<br/>2 II H.50<br/>2 II H.59</td></tr>\n",
       "<tr style=\"color:green\"><td /><td>2 II H.5a</td></tr>\n",
       "<tr style=\"color:gray\"><td colspan=\"2\">2 II H.68</td></tr>\n",
       "<tr style=\"color:blue\"><td>2 II H.72<br/>2 III H.4<br/>2 III H.12a<br/>2 III H.45a<br/>2 III H.45b<br/>2 III H.46a<br/>2 III H.46b<br/>2 III H.48<br/>2 III H.50<br/>2 III H.60<br/>2 III H.61<br/>2 III H.64e<br/>2 III H.66<br/>2 III H.68<br/>2 III H.69<br/>2 III H.76<br/>2 III H.81<br/>2 III H.81a<br/>2 III H.81b*<br/>2 IV H.4<br/>2 IV H.7b<br/>2 IV H.9<br/>2 IV H.11</td><td>2 II H.6a<br/>2 II H.6b</td></tr>\n",
       "<tr style=\"color:gray\"><td colspan=\"2\">2 IV H.12<br/>2 IV H.13b<br/>2 IV H.14</td></tr>\n",
       "<tr style=\"color:red\"><td>2 IV H.15</td><td /></tr>\n",
       "<tr style=\"color:gray\"><td colspan=\"2\">2 IV H.17<br/>2 IV H.19</td></tr>\n",
       "<tr style=\"color:green\"><td /><td>2 IV H.22</td></tr>\n",
       "<tr style=\"color:gray\"><td colspan=\"2\">2 IV H.22a<br/>2 IV H.22c</td></tr>\n",
       "<tr style=\"color:green\"><td /><td>2 IV H.22e<br/>2 IV H.22f<br/>2 IV H.4<br/>2 IV H.6:1<br/>2 IV H.6:2<br/>2 IV H.7a<br/>2 IV H.7b<br/>2 IV H.9<br/>2 I H.0<br/>2 I H.0a<br/>2 I H.0b<br/>2 I H.0c<br/>2 I H.0d<br/>2 I H.10<br/>2 I H.12:1<br/>2 I H.12:2<br/>2 I H.12a<br/>2 I H.14<br/>2 I H.15b<br/>2 I H.15c<br/>2 I H.16<br/>2 I H.18<br/>2 I H.19<br/>2 I H.2<br/>2 I H.23<br/>2 I H.24a<br/>2 I H.49<br/>2 I H.51<br/>2 I H.52<br/>2 I H.53<br/>2 I H.54<br/>2 I H.55<br/>2 I H.6a</td></tr>\n",
       "<tr style=\"color:gray\"><td colspan=\"2\">2 V H.0d<br/>2 V H.0e</td></tr>\n",
       "<tr style=\"color:green\"><td /><td>2 V H.12:2</td></tr>\n",
       "<tr style=\"color:gray\"><td colspan=\"2\">2 V H.14a*<br/>2 V H.16<br/>2 V H.35a*<br/>2 V H.36</td></tr>\n",
       "<tr style=\"color:green\"><td /><td>2 V H.37a<br/>2 V H.32a</td></tr>\n",
       "<tr style=\"color:gray\"><td colspan=\"2\">2 V H.37d</td></tr>\n",
       "<tr style=\"color:blue\"><td>H P9a<br/>H P22<br/>H P42<br/>H P68 Var<br/>H P82a</td><td>2 V H.37e<br/>2 V H.37f<br/>2 III H.27 alpha<br/>2 III H.30 alpha<br/>2 III H.70 alpha<br/>2 III H.71 alpha<br/>2 II H.69 alpha<br/>2 II H.72<br/>2 II H.71 alpha<br/>2 IV H.12 i_v_o<br/>2 IV H.11<br/>2 IV H.15<br/>2 IV H.20 i_uebrige<br/>2 I H.21 alpha<br/>2 I H.20<br/>2 I H.21<br/>2 I H.32 alpha<br/>2 V H.17 i_r<br/>2 V H.3 alpha<br/>2 V H.32a alpha<br/>fischer_lamberg: 2_III_H.15<br/>fischer_lamberg: 2_III_H.22_5<br/>wa: 2_H_P167<br/>wa: 2_III_H.2_alpha<br/>wa: 2_II_H.31_alpha<br/>wa: 2_H_P167 i_uebrige<br/>D.4alpha<br/>gsa_1: GSA_25_XIX,4<br/>gsa_2: GSA_25_W_1714<br/>bohnenkamp: H_P179.1<br/>bohnenkamp: H_P182</td></tr>\n",
       "<tr style=\"color:gray\"><td colspan=\"2\">H P123.3<br/>H P123.4<br/>H P123.6<br/>H P123.7<br/>H P123.8<br/>H P123.9<br/>H P148<br/>H P156a*<br/>H P167<br/>H P174<br/>H P176<br/>H P176 Var<br/>H P179<br/>H P190<br/>H P190b<br/>H P204<br/>2 II H.48</td></tr>\n",
       "<tr style=\"color:blue\"><td>D.4alpha<br/>gsa_1: GSA_25_XIX,4<br/>gsa_2: GSA_25_W_1714<br/>bohnenkamp: H_P179.1<br/>bohnenkamp: H_P182</td><td>H P22<br/>H P42<br/>H P68 Var<br/>H P82a<br/>H P9a</td></tr>\n",
       "<tr style=\"color:gray\"><td colspan=\"2\">H P167 i_r_u<br/>H P65 i_uebrige<br/>J.3-1<br/>J.3-2<br/>bohnenkamp: P10<br/>fischer_lamberg: P170a<br/>wa: P179.1<br/>wa: P179.2<br/>wa: P179.3<br/>wa: P191Var<br/>wa: P179.2 i_2_r<br/>R 2<br/>R 3<br/>T 0 H<br/>T 3 H.2<br/>T 3 H.3<br/>T 6 H.1<br/>T 6 H.2<br/>Testhandschrift<br/>H P6<br/>1 H.7<br/>1 H.5<br/>J.1<br/>1 H.11<br/>H P22 i_uebrige<br/>H P13<br/>H P65<br/>S<br/>1 H.4<br/>1 H.13</td></tr>\n",
       "<tr style=\"color:green\"><td /><td>2 II H.5</td></tr>\n",
       "<tr style=\"color:gray\"><td colspan=\"2\">2 II H.5 i_r</td></tr>\n",
       "<tr style=\"color:green\"><td /><td>2 II H.5 i_v</td></tr>\n",
       "<tr style=\"color:gray\"><td colspan=\"2\">2 V H.15a i_r_gt</td></tr>\n",
       "<tr style=\"color:red\"><td>2 II H.5 i_v<br/>2 II H.5<br/>H P8<br/>H P9</td><td /></tr>\n",
       "<tr style=\"color:gray\"><td colspan=\"2\">H P14<br/>H P20<br/>H P26<br/>H P50<br/>H P67<br/>H P68<br/>H P69<br/>H P75</td></tr>\n",
       "<tr style=\"color:green\"><td /><td>H P8</td></tr>\n",
       "<tr style=\"color:gray\"><td colspan=\"2\">H P81<br/>H P82</td></tr>\n",
       "<tr style=\"color:green\"><td /><td>H P9<br/>bohnenkamp: H_P9a</td></tr>\n",
       "<tr style=\"color:gray\"><td colspan=\"2\">H P96<br/>H P97</td></tr>\n",
       "<tr style=\"color:red\"><td>bohnenkamp: H_P9a</td><td /></tr>\n",
       "<tr style=\"color:gray\"><td colspan=\"2\">H P22 i_2_o<br/>H P22 i_2_u<br/>H P65 i_4_r<br/>H P121a<br/>H P98<br/>H P22 i_1_o<br/>2 V H.15a<br/>H P91<br/>H P11<br/>H P12<br/>H P15<br/>1 H.10 i_uebrige</td></tr>\n",
       "<tr style=\"color:red\"><td>1 H.10</td><td /></tr>\n",
       "<tr style=\"color:gray\"><td colspan=\"2\">H P4<br/>1 H.3<br/>H P3<br/>H P5<br/>1 H.9</td></tr>\n",
       "<tr style=\"color:green\"><td /><td>2 III H.10</td></tr>\n",
       "<tr style=\"color:gray\"><td colspan=\"2\">2 III H.9</td></tr>\n",
       "<tr style=\"color:red\"><td>2 III H.10</td><td /></tr>\n",
       "<tr style=\"color:gray\"><td colspan=\"2\">H P25<br/>H P1<br/>H P84 <br/>bohnenkamp: P10 i_3_u<br/>R 1<br/>H P27<br/>H P28<br/>H P29<br/>H P30<br/>H P32<br/>H P62a<br/>1 H.14<br/>gsa_1: GSA_25_XVII_1_1a<br/>1 H.12<br/>H P110a<br/>A<br/>J.2<br/>D.1<br/>1 H.2<br/>H P47<br/>T 1 H.0<br/>T 3 H.1<br/>T 1 H.1<br/>T 2 H<br/>T 4 H.1<br/>T 4 H.2<br/>T 4 H.3<br/>T 5 H.2<br/>T 5 H.1<br/>B<br/>D.2<br/>H P63<br/>B.a<br/>D.3<br/>2 III H.23<br/>2 III H.23a*</td></tr>\n",
       "<tr style=\"color:green\"><td /><td>2 III H.6:1</td></tr>\n",
       "<tr style=\"color:gray\"><td colspan=\"2\">2 III H.50b<br/>2 III H.65<br/>2 III H.66a<br/>2 III H.80<br/>1 H.16<br/>2 III H.27 i_v<br/>2 III H.49 i_uebrige</td></tr>\n",
       "<tr style=\"color:red\"><td>2 III H.49</td><td /></tr>\n",
       "<tr style=\"color:gray\"><td colspan=\"2\">H P195<br/>H P194</td></tr>\n",
       "<tr style=\"color:red\"><td>2 V H.4<br/>2 V H.3</td><td /></tr>\n",
       "<tr style=\"color:gray\"><td colspan=\"2\">2 V H.15<br/>2 V H.20<br/>2 V H.24<br/>2 V H.27</td></tr>\n",
       "<tr style=\"color:green\"><td /><td>2 V H.4<br/>2 V H.3</td></tr>\n",
       "<tr style=\"color:gray\"><td colspan=\"2\">2 V H.28 alpha<br/>2 V H.25<br/>2 V H.19<br/>2 V H.28</td></tr>\n",
       "<tr style=\"color:green\"><td /><td>2 V H.29</td></tr>\n",
       "<tr style=\"color:gray\"><td colspan=\"2\">2 V H.29 i_r<br/>2 V H.29 i_v</td></tr>\n",
       "<tr style=\"color:red\"><td>2 V H.29<br/>2 V H.15a i_r_g<br/>2 III H.5 i_r_r<br/>2 III H.5 i_uebrige<br/>2 V H.4 i_uebrige<br/>2_III_H.8: i_r<br/>2 III H.5<br/>2 III H.8 i_r</td><td /></tr>\n",
       "<tr style=\"color:gray\"><td colspan=\"2\">2 III H.30<br/>2 III H.34<br/>2 III H.26<br/>2 III H.32<br/>2 III H.36<br/>2 III H.35<br/>2 III H.47</td></tr>\n",
       "<tr style=\"color:green\"><td /><td>2 III H.6:2<br/>2 V H.15b<br/>2 III H.5 i_r_r<br/>2 III H.5 i_uebrige<br/>2 III H.8 i_r<br/>2 V H.15a i_r_g<br/>2 V H.4 i_uebrige</td></tr>\n",
       "<tr style=\"color:gray\"><td colspan=\"2\">2 V H.5<br/>2 V H.6</td></tr>\n",
       "<tr style=\"color:green\"><td /><td>2 V H.8</td></tr>\n",
       "<tr style=\"color:gray\"><td colspan=\"2\">2 V H.8 i_r<br/>2 V H.8 i_uebrige</td></tr>\n",
       "<tr style=\"color:red\"><td>2 V H.8</td><td /></tr>\n",
       "<tr style=\"color:gray\"><td colspan=\"2\">2 V H.7<br/>2 V H.9<br/>2 V H.10</td></tr>\n",
       "<tr style=\"color:green\"><td /><td>2 V H.11<br/>2 V H.12:1</td></tr>\n",
       "<tr style=\"color:gray\"><td colspan=\"2\">2 V H.4 i_v</td></tr>\n",
       "<tr style=\"color:blue\"><td>2 V H.11<br/>2 V H.15b</td><td>2_III_H.8: i_r<br/>gsa_2: GSA_25_W_1575<br/>H P165</td></tr>\n",
       "<tr style=\"color:gray\"><td colspan=\"2\">H P93</td></tr>\n",
       "<tr style=\"color:red\"><td>H P165<br/>gsa_2: GSA_25_W_1575</td><td /></tr>\n",
       "<tr style=\"color:gray\"><td colspan=\"2\">H P167 i_v<br/>2 V H.24 i_r<br/>2 V H.22<br/>2 V H.23<br/>2 V H.21</td></tr>\n",
       "<tr style=\"color:red\"><td>2 V H.24 i_v</td><td /></tr>\n",
       "<tr style=\"color:gray\"><td colspan=\"2\">2 V H.26<br/>2 V H.32</td></tr>\n",
       "<tr style=\"color:green\"><td /><td>2 V H.24 i_v</td></tr>\n",
       "<tr style=\"color:gray\"><td colspan=\"2\">2 V H.31 i_r_o<br/>2 V H.17 i_v</td></tr>\n",
       "<tr style=\"color:green\"><td /><td>2 V H.18<br/>2 V H.17</td></tr>\n",
       "<tr style=\"color:gray\"><td colspan=\"2\">2 V H.26 i_r<br/>2 V H.26 i_v</td></tr>\n",
       "<tr style=\"color:blue\"><td>2 V H.18<br/>2 V H.17</td><td>2 III H.8 i_v</td></tr>\n",
       "<tr style=\"color:gray\"><td colspan=\"2\">2 V H.13 i_r<br/>2 V H.31 i_r_uebrige</td></tr>\n",
       "<tr style=\"color:red\"><td>2 III H.8 i_v</td><td /></tr>\n",
       "<tr style=\"color:gray\"><td colspan=\"2\">2 V H.31 i_v</td></tr>\n",
       "<tr style=\"color:red\"><td>2 III H.8<br/>2 V H.12:1<br/>2 V H.12:2<br/>2 V H.13</td><td /></tr>\n",
       "<tr style=\"color:gray\"><td colspan=\"2\">2 V H.30</td></tr>\n",
       "<tr style=\"color:red\"><td>2 V H.2 alpha</td><td /></tr>\n",
       "<tr style=\"color:gray\"><td colspan=\"2\">2 V H.31<br/>2 V H.31a</td></tr>\n",
       "<tr style=\"color:green\"><td /><td>2 V H.2 alpha<br/>2 V H.13</td></tr>\n",
       "<tr style=\"color:gray\"><td colspan=\"2\">H P163<br/>2 III H.13<br/>2 III H.11<br/>2 III H.14<br/>2 III H.18</td></tr>\n",
       "<tr style=\"color:green\"><td /><td>2 III H.15</td></tr>\n",
       "<tr style=\"color:gray\"><td colspan=\"2\">fischer_lamberg: 2_III_H.15 </td></tr>\n",
       "<tr style=\"color:red\"><td>2 III H.15</td><td /></tr>\n",
       "<tr style=\"color:gray\"><td colspan=\"2\">wa: 2_III_H.15II</td></tr>\n",
       "<tr style=\"color:red\"><td>2 III H.6:2<br/>2 III H.6:1</td><td /></tr>\n",
       "<tr style=\"color:gray\"><td colspan=\"2\">2 III H.16<br/>2 III H.19<br/>2 III H.20<br/>2 III H.21<br/>2 III H.24<br/>2 III H.17</td></tr>\n",
       "<tr style=\"color:green\"><td /><td>2 III H.24a</td></tr>\n",
       "<tr style=\"color:gray\"><td colspan=\"2\">2 III H.1 alpha</td></tr>\n",
       "<tr style=\"color:red\"><td>2 III H.24a</td><td /></tr>\n",
       "<tr style=\"color:gray\"><td colspan=\"2\">H P176a<br/>inscription: wa P230<br/>2 III H.31<br/>2 III H.33</td></tr>\n",
       "<tr style=\"color:red\"><td>2 V H.13 i_v</td><td /></tr>\n",
       "<tr style=\"color:gray\"><td colspan=\"2\">2 III H.25a<br/>2 III H.25</td></tr>\n",
       "<tr style=\"color:green\"><td /><td>2 V H.13 i_v</td></tr>\n",
       "<tr style=\"color:gray\"><td colspan=\"2\">2 V H.14<br/>2 V H.2<br/>2 III H.27 i_r<br/>2 III H.42<br/>2 III H.37<br/>2 III H.37a<br/>2 III H.41<br/>2 III H.42a<br/>2 III H.44<br/>2 III H.44a<br/>2 III H.27<br/>2 III H.28<br/>2 III H.29<br/>2 III H.38<br/>2 III H.39<br/>2 III H.40<br/>2 III H.1<br/>2 III H.64b<br/>2 III H.64a<br/>2 III H.64c<br/>2 III H.64d<br/>H P164a</td></tr>\n",
       "<tr style=\"color:blue\"><td>2 III H.2a:1</td><td>2 III H.23d</td></tr>\n",
       "<tr style=\"color:gray\"><td colspan=\"2\">2 III H.8a<br/>2 III H.8c<br/>2 III H.9a</td></tr>\n",
       "<tr style=\"color:red\"><td>2 III H.23d</td><td /></tr>\n",
       "<tr style=\"color:gray\"><td colspan=\"2\">H P166a<br/>2 III H.49a<br/>2 III H.49b<br/>2 III H.49c<br/>H P167 i_uebrige<br/>2 III H.12<br/>2 V H.26a<br/>2 I H.1<br/>2 III H.58 i_v<br/>1 H.1<br/>1 H.6<br/>D.4<br/>D.4α <br/>2 III H.60 i_uebrige<br/>2 I H.9e*<br/>2 I H.9f<br/>2 I H.9g<br/>2 I H.9h<br/>2 I H.9i*<br/>H P176 Var i_r<br/>1 H.17<br/>2 III H.0</td></tr>\n",
       "<tr style=\"color:red\"><td>2 III H.50a</td><td /></tr>\n",
       "<tr style=\"color:gray\"><td colspan=\"2\">2 III H.45</td></tr>\n",
       "<tr style=\"color:red\"><td>2 III H.58 i_r<br/>2 III H.49 i_r_u<br/>2 III H.59b i_uebrige</td><td /></tr>\n",
       "<tr style=\"color:gray\"><td colspan=\"2\">2 III H.43<br/>2 III H.48a<br/>2 III H.55<br/>2 III H.70<br/>2 III H.72<br/>2 III H.78a<br/>2 III H.79</td></tr>\n",
       "<tr style=\"color:green\"><td /><td>2 III H.49 i_r_u<br/>2 III H.58 i_r<br/>2 III H.59b i_uebrige</td></tr>\n",
       "<tr style=\"color:gray\"><td colspan=\"2\">2 III H.77<br/>2 III H.46<br/>H P168<br/>2 III H.50d<br/>2 III H.50c<br/>2 III H.51<br/>2 III H.53<br/>2 III H.52<br/>2 III H.54<br/>2 III H.56<br/>2 III H.56a<br/>2 III H.56b<br/>2 III H.56c</td></tr>\n",
       "<tr style=\"color:green\"><td /><td>fischer_lamberg: 2_III_H.22_2<br/>fischer_lamberg: 2_III_H.22_3<br/>2 III H.2a:2<br/>fischer_lamberg: 2_III_H.22_4<br/>wa: 2_III_H.2alpha</td></tr>\n",
       "<tr style=\"color:gray\"><td colspan=\"2\">2 III H.71<br/>2 III H.64<br/>2 III H.63<br/>2 III H.67<br/>2 III H.59<br/>2 III H.33a<br/>2 III H.59a<br/>2 III H.57<br/>2 III H.57a<br/>2 III H.58<br/>2 III H.58a<br/>2 III H.59b<br/>2 III H.59c<br/>2 III H.7:4<br/>2 III H.78</td></tr>\n",
       "<tr style=\"color:red\"><td>2 III H.2:2<br/>fischer_lamberg: 2_III_H.22_5<br/>wa: 2_III_H.2alpha<br/>2 III H.2:1<br/>fischer_lamberg: 2_III_H.22_1<br/>fischer_lamberg: 2_III_H.22_2<br/>fischer_lamberg: 2_III_H.22_3<br/>fischer_lamberg: 2_III_H.22_4<br/>wa: 2_III_H.IIIalpha<br/>2 III H.2a:2<br/>2 III H.2a:4<br/>fischer_lamberg: 2_III_H.7__2-3<br/>2 III H.2a:5<br/>2 III H.2a:1 <br/>2 III H.8b</td><td /></tr>\n",
       "<tr style=\"color:gray\"><td colspan=\"2\">2 III H.22</td></tr>\n",
       "<tr style=\"color:red\"><td>2 III H.7:2<br/>2 III H.7:3<br/>2 III H.7:5</td><td /></tr>\n",
       "<tr style=\"color:gray\"><td colspan=\"2\">2 III H.23b<br/>2 III H.23c</td></tr>\n",
       "<tr style=\"color:green\"><td /><td>2 III H.2a:4<br/>2 III H.2a:5<br/>2 III H.2a:1<br/>2 III H.7:5<br/>2 III H.8b<br/>2 III H.7:2<br/>2 III H.2a:1 <br/>2 III H.7:1<br/>2 III H.3<br/>fischer_lamberg: 2_III_H.22_1<br/>2 III H.7:3<br/>fischer_lamberg: 2_III_H.7__2-3<br/>2 III H.2a:3<br/>2 III H.62<br/>wa: 2_III_H.IIIalpha</td></tr>\n",
       "<tr style=\"color:gray\"><td colspan=\"2\">H P140</td></tr>\n",
       "<tr style=\"color:red\"><td>2 III H.7:1<br/>2 III H.2a:3<br/>2 III H.3<br/>2 III H.3a:1<br/>2 III H.3a:2<br/>2 III H.62</td><td /></tr>\n",
       "<tr style=\"color:gray\"><td colspan=\"2\">fischer_lamberg: P170a i_uebrige<br/>H P123.1<br/>fischer_lamberg: P170a i_1_o</td></tr>\n",
       "<tr style=\"color:green\"><td /><td>2 III H.50a</td></tr>\n",
       "<tr style=\"color:gray\"><td colspan=\"2\">H P78<br/>2 III H.3b<br/>H P99.1<br/>H P99.2<br/>H P123.2<br/>H P123.5<br/>2 III H.73<br/>2 III H.74<br/>2 III H.75<br/>2 III H.75a<br/>2 III H.75b<br/>2 II H.4<br/>C.1 4<br/>H P108b<br/>H P108c<br/>H P101<br/>H P101a<br/>H P102</td></tr>\n",
       "<tr style=\"color:red\"><td>2 I H.12:1<br/>2 I H.12:2<br/>2 I H.12a</td><td /></tr>\n",
       "<tr style=\"color:gray\"><td colspan=\"2\">2 I H.11</td></tr>\n",
       "<tr style=\"color:blue\"><td>2 I H.19 i_uebrige<br/>2 I H.5</td><td>2 II H.1</td></tr>\n",
       "<tr style=\"color:gray\"><td colspan=\"2\">2 I H.13<br/>2 I H.24</td></tr>\n",
       "<tr style=\"color:blue\"><td>2 II H.1<br/>inscription: wa 2_I_H.10</td><td>2 I H.5<br/>2 I H.19 i_uebrige</td></tr>\n",
       "<tr style=\"color:gray\"><td colspan=\"2\">2 I H.9k<br/>2 I H.9l*</td></tr>\n",
       "<tr style=\"color:green\"><td /><td>inscription: wa 2_I_H.10<br/>2 II H.2:3<br/>2 I H.22</td></tr>\n",
       "<tr style=\"color:gray\"><td colspan=\"2\">fischer-lamberg: 2_II_H.2d</td></tr>\n",
       "<tr style=\"color:red\"><td>2 I H.22<br/>2 II H.2:3</td><td /></tr>\n",
       "<tr style=\"color:gray\"><td colspan=\"2\">2 II H.2:1<br/>2 I H.17<br/>2 I H.8<br/>2 I H.15<br/>2 I H.15a<br/>2 I H.25<br/>2 I H.26<br/>2 I H.27<br/>2 I H.24b<br/>2 I H.24c<br/>2 II H.3<br/>2 I H.3<br/>2 I H.4</td></tr>\n",
       "<tr style=\"color:red\"><td>2 I H.6<br/>2 I H.7<br/>2 I H.9<br/>2 I H.9a<br/>2 I H.9b</td><td /></tr>\n",
       "<tr style=\"color:gray\"><td colspan=\"2\">2 I H.34<br/>2 I H.30<br/>2 I H.38<br/>2 I H.39<br/>2 I H.40<br/>2 I H.36<br/>2 I H.41</td></tr>\n",
       "<tr style=\"color:green\"><td /><td>2 I H.43<br/>2 I H.43a<br/>2 I H.6<br/>2 I H.7<br/>2 I H.9<br/>2 I H.9a<br/>2 I H.9b</td></tr>\n",
       "<tr style=\"color:gray\"><td colspan=\"2\">2 I H.42<br/>wa: 2_I_H.alpha<br/>2 I H.29<br/>2 I H.28<br/>2 I H.31</td></tr>\n",
       "<tr style=\"color:green\"><td /><td>2 I H.32<br/>2 I H.41a</td></tr>\n",
       "<tr style=\"color:gray\"><td colspan=\"2\">2 I H.32 i_uebrige<br/>H P106 i_v<br/>H P105<br/>H P106<br/>2 I H.19 i_4</td></tr>\n",
       "<tr style=\"color:red\"><td>2 I H.19<br/>2 I H.20<br/>2 I H.32 i_7_v<br/>2 I H.43 i_uebrige<br/>2 I H.32</td><td /></tr>\n",
       "<tr style=\"color:gray\"><td colspan=\"2\">2 I H.34a<br/>2 I H.37<br/>2 I H.35</td></tr>\n",
       "<tr style=\"color:red\"><td>2 I H.41a<br/>2 I H.43<br/>2 I H.43a</td><td /></tr>\n",
       "<tr style=\"color:gray\"><td colspan=\"2\">2 I H.45<br/>2 I H.44</td></tr>\n",
       "<tr style=\"color:green\"><td /><td>2 I H.32 i_7_v<br/>2 I H.43 i_uebrige</td></tr>\n",
       "<tr style=\"color:gray\"><td colspan=\"2\">2 I H.33<br/>2 I H.9c*<br/>2 I H.9m<br/>2 I H.9n*<br/>2 I H.9o*<br/>2 I H.9p*<br/>2 I H.9d<br/>H P107<br/>2 I H.46<br/>C.1 12<br/>C.3 4<br/>H P179a<br/>H P180<br/>wa: P179.1 i_1_r<br/>wa: P179.3 i_1_v<br/>C.2α 4<br/>2 III H.69a<br/>2 II H.14<br/>2 II H.8:2<br/>C.3 12<br/>gsa_2: GSA_25_W_1806<br/>2 I H.58<br/>2 I H.57<br/>2 II H.4a*<br/>2 I H.50a<br/>2 I H.50b<br/>2 I H.50<br/>2 I H.48<br/>2 I H.47<br/>2 I H.60<br/>H P149</td></tr>\n",
       "<tr style=\"color:green\"><td /><td>2 II H.16a</td></tr>\n",
       "<tr style=\"color:gray\"><td colspan=\"2\">2 II H.9</td></tr>\n",
       "<tr style=\"color:red\"><td>2 II H.16a<br/>2 II H.6</td><td /></tr>\n",
       "<tr style=\"color:gray\"><td colspan=\"2\">2 II H.10<br/>2 II H.11</td></tr>\n",
       "<tr style=\"color:green\"><td /><td>2 II H.6</td></tr>\n",
       "<tr style=\"color:gray\"><td colspan=\"2\">2 I H.56</td></tr>\n",
       "<tr style=\"color:green\"><td /><td>2 II H.12</td></tr>\n",
       "<tr style=\"color:gray\"><td colspan=\"2\">2 I H.59</td></tr>\n",
       "<tr style=\"color:red\"><td>2 II H.12</td><td /></tr>\n",
       "<tr style=\"color:gray\"><td colspan=\"2\">H P161<br/>2 II H.46<br/>2 II H.15<br/>2 II H.8:1<br/>2 II H.13<br/>2 II H.74 i_uebrige<br/>2 II H.74 i_2<br/>2 II H.74 i_23_m<br/>2 II H.63<br/>gsa_2: GSA_25_W_1772<br/>2 II H.38<br/>2 II H.18<br/>2 II H.20</td></tr>\n",
       "<tr style=\"color:blue\"><td>2 II H.27:1</td><td>2 II H.28 alpha</td></tr>\n",
       "<tr style=\"color:gray\"><td colspan=\"2\">H P124<br/>2 II H.17<br/>2 II H.27:2</td></tr>\n",
       "<tr style=\"color:red\"><td>2 II H.28 alpha</td><td /></tr>\n",
       "<tr style=\"color:gray\"><td colspan=\"2\">2 II H.28<br/>2 II H.45<br/>2 II H.22<br/>2 II H.25<br/>2 II H.54<br/>2 II H.24<br/>2 II H.41<br/>2 II H.23<br/>2 II H.42<br/>2 II H.39<br/>2 II H.49<br/>2 II H.51<br/>2 II H.53<br/>H P125<br/>2 V H.1a<br/>2 V H.1<br/>wa: 2_V_H.alpha<br/>2 II H.19<br/>2 II H.56<br/>2 II H.58<br/>2 II H.60<br/>2 II H.33<br/>2 II H.52<br/>2 II H.47<br/>2 II H.55<br/>2 II H.57<br/>2 II H.61<br/>2 II H.62<br/>2 II H.31a<br/>2 II H.34<br/>2 II H.64<br/>2 II H.65<br/>2 II H.66<br/>H P159<br/>H P160<br/>H P126<br/>2 II H.67<br/>2 II H.71<br/>2 II H.69<br/>2 II H.74</td></tr>\n",
       "<tr style=\"color:red\"><td>2 II H.7</td><td /></tr>\n",
       "<tr style=\"color:gray\"><td colspan=\"2\">2 II H.35<br/>2 II H.36<br/>2 II H.36a<br/>2 II H.47a</td></tr>\n",
       "<tr style=\"color:green\"><td /><td>2 II H.7</td></tr>\n",
       "<tr style=\"color:gray\"><td colspan=\"2\">wa: 2_II_H.alpha<br/>H P157<br/>2 V H.37a i_v<br/>landeck: 2_V_H.h</td></tr>\n",
       "<tr style=\"color:red\"><td>2 V H.37a</td><td /></tr>\n",
       "<tr style=\"color:gray\"><td colspan=\"2\">2 II H.70<br/>2 II H.73<br/>landeck: 2_V_H.1I<br/>landeck: 2_V_H.1II<br/>landeck: 2_V_H.1III<br/>2 V H.34<br/>2 V H.35</td></tr>\n",
       "<tr style=\"color:green\"><td /><td>2 V H.33</td></tr>\n",
       "<tr style=\"color:gray\"><td colspan=\"2\">2 V H.37b</td></tr>\n",
       "<tr style=\"color:green\"><td /><td>2 V H.38a</td></tr>\n",
       "<tr style=\"color:gray\"><td colspan=\"2\">2 V H.37a i_r<br/>landeck: 2_V_H.33I<br/>2 V H.32a i_r<br/>2 V H.32a i_v<br/>2 V H.33 i_uebrige</td></tr>\n",
       "<tr style=\"color:red\"><td>2 V H.32a<br/>2 V H.32a alpha<br/>2 V H.33</td><td /></tr>\n",
       "<tr style=\"color:gray\"><td colspan=\"2\">2 V H.37c</td></tr>\n",
       "<tr style=\"color:red\"><td>2 V H.37e<br/>2 V H.37f</td><td /></tr>\n",
       "<tr style=\"color:gray\"><td colspan=\"2\">2 V H.37g</td></tr>\n",
       "<tr style=\"color:red\"><td>2 V H.38a</td><td /></tr>\n",
       "<tr style=\"color:gray\"><td colspan=\"2\">H P196<br/>2 V H.37<br/>2 V H.33 i_3_r<br/>2 V H.33 i_3_v<br/>2 V H.0a</td></tr>\n",
       "<tr style=\"color:green\"><td /><td>2 V H.0f</td></tr>\n",
       "<tr style=\"color:gray\"><td colspan=\"2\">landeck: 2_H</td></tr>\n",
       "<tr style=\"color:red\"><td>2 V H.0f</td><td /></tr>\n",
       "<tr style=\"color:gray\"><td colspan=\"2\">2 V H.0c<br/>2 V H.0b</td></tr>\n",
       "<tr style=\"color:red\"><td>2 IV H.6:1<br/>2 IV H.6:2<br/>2 IV H.7a</td><td /></tr>\n",
       "<tr style=\"color:gray\"><td colspan=\"2\">2 V H.38<br/>H P197a<br/>H P188a<br/>H P190a<br/>2 IV H.22 i_1_r<br/>2 IV H.22 i_uebrige</td></tr>\n",
       "<tr style=\"color:red\"><td>2 IV H.22</td><td /></tr>\n",
       "<tr style=\"color:gray\"><td colspan=\"2\">2 IV H.22b<br/>2 IV H.5<br/>2 IV H.2<br/>2 IV H.3<br/>2 IV H.7<br/>H P188<br/>2 IV H.18<br/>2 IV H.21a<br/>2 IV H.22d<br/>2 IV H.20<br/>2 IV H.13a<br/>2 IV H.1<br/>2 IV H.22g</td></tr>\n",
       "<tr style=\"color:red\"><td>2 IV H.22e<br/>2 IV H.22f</td><td /></tr>\n",
       "<tr style=\"color:gray\"><td colspan=\"2\">H P181<br/>2 IV H.19 i_uebrige</td></tr>\n",
       "<tr style=\"color:green\"><td /><td>2 IV H.8</td></tr>\n",
       "<tr style=\"color:gray\"><td colspan=\"2\">2 IV H.12 i_uebrige</td></tr>\n",
       "<tr style=\"color:red\"><td>2 IV H.8</td><td /></tr>\n",
       "<tr style=\"color:gray\"><td colspan=\"2\">2 IV H.13<br/>2 H<br/>2 IV H.10<br/>2 IV H.21<br/>wa: C.1_4<br/>wa: C_12<br/>wa: C_4<br/>wa: P191Var i_v_u<br/>2 IV H.16<br/>H P129 Var*<br/>C.1 41<br/>wa: C_41<br/>C.3 41<br/>Q</td></tr>\n",
       "</tbody></table>\n"
      ],
      "text/plain": [
       "<__main__.PositionMatcher at 0x7f94e3509bd0>"
      ]
     },
     "execution_count": 14,
     "metadata": {},
     "output_type": "execute_result"
    }
   ],
   "source": [
    "pm"
   ]
  },
  {
   "cell_type": "code",
   "execution_count": 16,
   "metadata": {},
   "outputs": [
    {
     "name": "stderr",
     "output_type": "stream",
     "text": [
      "\u001b[32mINFO     macrogen.graph Loading macrogenesis graphs from target/split-inline/macrogen-info.zip\u001b[0m\n",
      "\u001b[32mINFO     macrogen.graph Removing edges to ignore\u001b[0m\n",
      "\u001b[32mINFO     macrogen.graph Adding 161 otherwise unmentioned references to the working graph\u001b[0m\n",
      "\u001b[32mINFO     macrogen.graph Creating sort order from DAG\u001b[0m\n",
      "\u001b[32mINFO     macrogen.graph Preparing transitive closure …\u001b[0m\n",
      "\u001b[32mINFO     macrogen.graph Inferring witness detail table ..\u001b[0m\n",
      "\u001b[32mINFO     macrogen.graph Preparing details on references\u001b[0m\n",
      "\u001b[32mINFO     macrogen.graph MacrogenesisInfo loaded.\u001b[0m\n"
     ]
    }
   ],
   "source": [
    "mi = m.MacrogenesisInfo('target/split-inline/macrogen-info.zip')"
   ]
  },
  {
   "cell_type": "code",
   "execution_count": 23,
   "metadata": {},
   "outputs": [],
   "source": [
    "from itertools import chain\n",
    "ws = [w for w in chain.from_iterable(pm.moved_groups())]\n",
    "nodes = mi.nodes(\", \".join(ws))"
   ]
  },
  {
   "cell_type": "code",
   "execution_count": 25,
   "metadata": {},
   "outputs": [
    {
     "data": {
      "text/plain": [
       "36"
      ]
     },
     "execution_count": 25,
     "metadata": {},
     "output_type": "execute_result"
    }
   ],
   "source": [
    "nodes.count(None)"
   ]
  },
  {
   "cell_type": "code",
   "execution_count": 31,
   "metadata": {},
   "outputs": [],
   "source": [
    "refs = [w.reference for w in nodes if w is not None]"
   ]
  },
  {
   "cell_type": "code",
   "execution_count": 37,
   "metadata": {},
   "outputs": [],
   "source": [
    "in_degrees = [mi.base.in_degree[m.splitgraph.SplitReference(ref, m.splitgraph.Side.START)] for ref in refs]\n",
    "out_degrees = [mi.base.out_degree[m.splitgraph.SplitReference(ref, m.splitgraph.Side.END)] for ref in refs]"
   ]
  },
  {
   "cell_type": "code",
   "execution_count": 42,
   "metadata": {},
   "outputs": [],
   "source": [
    "def degrees(graph, ref):\n",
    "    return {'in': mi.base.in_degree[m.splitgraph.SplitReference(ref, m.splitgraph.Side.START)],\n",
    "           'out': mi.base.out_degree[m.splitgraph.SplitReference(ref, m.splitgraph.Side.END)]}"
   ]
  },
  {
   "cell_type": "code",
   "execution_count": 46,
   "metadata": {},
   "outputs": [],
   "source": [
    "degs = pd.DataFrame({ref: degrees(mi.base, ref) for ref in refs}).T"
   ]
  },
  {
   "cell_type": "code",
   "execution_count": 50,
   "metadata": {},
   "outputs": [],
   "source": [
    "degs['total'] = degs.sum(axis=1)"
   ]
  },
  {
   "cell_type": "code",
   "execution_count": 67,
   "metadata": {},
   "outputs": [
    {
     "data": {
      "text/html": [
       "<div>\n",
       "<style scoped>\n",
       "    .dataframe tbody tr th:only-of-type {\n",
       "        vertical-align: middle;\n",
       "    }\n",
       "\n",
       "    .dataframe tbody tr th {\n",
       "        vertical-align: top;\n",
       "    }\n",
       "\n",
       "    .dataframe thead th {\n",
       "        text-align: right;\n",
       "    }\n",
       "</style>\n",
       "<table border=\"1\" class=\"dataframe\">\n",
       "  <thead>\n",
       "    <tr style=\"text-align: right;\">\n",
       "      <th></th>\n",
       "      <th>uri</th>\n",
       "      <th>label</th>\n",
       "      <th>kind</th>\n",
       "      <th>inscription_of</th>\n",
       "      <th>position</th>\n",
       "      <th>start_pos</th>\n",
       "      <th>end_pos</th>\n",
       "      <th>rank</th>\n",
       "      <th>max_before_date</th>\n",
       "      <th>max_abs_before_date</th>\n",
       "      <th>min_after_date</th>\n",
       "      <th>min_abs_after_date</th>\n",
       "      <th>avg</th>\n",
       "      <th>avg_year</th>\n",
       "      <th>yearlabel</th>\n",
       "      <th>baseline_position</th>\n",
       "    </tr>\n",
       "  </thead>\n",
       "  <tbody>\n",
       "    <tr>\n",
       "      <td>1 H.10</td>\n",
       "      <td>faust://document/faustedition/1_H.10</td>\n",
       "      <td>1 H.10</td>\n",
       "      <td>Witness</td>\n",
       "      <td>None</td>\n",
       "      <td>1</td>\n",
       "      <td>1</td>\n",
       "      <td>2</td>\n",
       "      <td>2</td>\n",
       "      <td>NaN</td>\n",
       "      <td>NaN</td>\n",
       "      <td>1800-11-09</td>\n",
       "      <td>NaN</td>\n",
       "      <td>1800-11-09</td>\n",
       "      <td>1800.0</td>\n",
       "      <td>1800</td>\n",
       "      <td>12</td>\n",
       "    </tr>\n",
       "    <tr>\n",
       "      <td>1 H.15</td>\n",
       "      <td>faust://document/faustedition/1_H.15</td>\n",
       "      <td>1 H.15</td>\n",
       "      <td>Witness</td>\n",
       "      <td>None</td>\n",
       "      <td>2</td>\n",
       "      <td>3</td>\n",
       "      <td>4</td>\n",
       "      <td>2</td>\n",
       "      <td>NaN</td>\n",
       "      <td>NaN</td>\n",
       "      <td>1776-01-02</td>\n",
       "      <td>1776-01-02</td>\n",
       "      <td>1776-01-02</td>\n",
       "      <td>1776.0</td>\n",
       "      <td>1776</td>\n",
       "      <td>17</td>\n",
       "    </tr>\n",
       "    <tr>\n",
       "      <td>2 III H.2:1</td>\n",
       "      <td>faust://document/faustedition/2_III_H.2_1</td>\n",
       "      <td>2 III H.2:1</td>\n",
       "      <td>Witness</td>\n",
       "      <td>None</td>\n",
       "      <td>5</td>\n",
       "      <td>9</td>\n",
       "      <td>10</td>\n",
       "      <td>2</td>\n",
       "      <td>NaN</td>\n",
       "      <td>NaN</td>\n",
       "      <td>1826-05-26</td>\n",
       "      <td>None</td>\n",
       "      <td>1826-05-26</td>\n",
       "      <td>1826.0</td>\n",
       "      <td>1826</td>\n",
       "      <td>290</td>\n",
       "    </tr>\n",
       "    <tr>\n",
       "      <td>2 III H.4</td>\n",
       "      <td>faust://document/faustedition/2_III_H.4</td>\n",
       "      <td>2 III H.4</td>\n",
       "      <td>Witness</td>\n",
       "      <td>None</td>\n",
       "      <td>6</td>\n",
       "      <td>11</td>\n",
       "      <td>12</td>\n",
       "      <td>2</td>\n",
       "      <td>NaN</td>\n",
       "      <td>NaN</td>\n",
       "      <td>1826-06-10</td>\n",
       "      <td>1826-12-11</td>\n",
       "      <td>1826-06-10</td>\n",
       "      <td>1826.0</td>\n",
       "      <td>1826</td>\n",
       "      <td>299</td>\n",
       "    </tr>\n",
       "    <tr>\n",
       "      <td>2 III H.46b</td>\n",
       "      <td>faust://document/faustedition/2_III_H.46b</td>\n",
       "      <td>2 III H.46b</td>\n",
       "      <td>Witness</td>\n",
       "      <td>None</td>\n",
       "      <td>7</td>\n",
       "      <td>13</td>\n",
       "      <td>14</td>\n",
       "      <td>2</td>\n",
       "      <td>NaN</td>\n",
       "      <td>NaN</td>\n",
       "      <td>1826-04-01</td>\n",
       "      <td>1826-10-11</td>\n",
       "      <td>1826-04-01</td>\n",
       "      <td>1826.0</td>\n",
       "      <td>1826</td>\n",
       "      <td>363</td>\n",
       "    </tr>\n",
       "    <tr>\n",
       "      <td>...</td>\n",
       "      <td>...</td>\n",
       "      <td>...</td>\n",
       "      <td>...</td>\n",
       "      <td>...</td>\n",
       "      <td>...</td>\n",
       "      <td>...</td>\n",
       "      <td>...</td>\n",
       "      <td>...</td>\n",
       "      <td>...</td>\n",
       "      <td>...</td>\n",
       "      <td>...</td>\n",
       "      <td>...</td>\n",
       "      <td>...</td>\n",
       "      <td>...</td>\n",
       "      <td>...</td>\n",
       "      <td>...</td>\n",
       "    </tr>\n",
       "    <tr>\n",
       "      <td>2 II H.7</td>\n",
       "      <td>faust://document/faustedition/2_II_H.7</td>\n",
       "      <td>2 II H.7</td>\n",
       "      <td>Witness</td>\n",
       "      <td>None</td>\n",
       "      <td>597</td>\n",
       "      <td>1193</td>\n",
       "      <td>1194</td>\n",
       "      <td>1364</td>\n",
       "      <td>1830-06-11</td>\n",
       "      <td>None</td>\n",
       "      <td>1832-06-06</td>\n",
       "      <td>None</td>\n",
       "      <td>1831-06-09</td>\n",
       "      <td>1831.0</td>\n",
       "      <td>1830 … 1832</td>\n",
       "      <td>213</td>\n",
       "    </tr>\n",
       "    <tr>\n",
       "      <td>2 V H.33</td>\n",
       "      <td>faust://document/faustedition/2_V_H.33</td>\n",
       "      <td>2 V H.33</td>\n",
       "      <td>Witness</td>\n",
       "      <td>None</td>\n",
       "      <td>609</td>\n",
       "      <td>1217</td>\n",
       "      <td>1218</td>\n",
       "      <td>1397</td>\n",
       "      <td>1830-11-30</td>\n",
       "      <td>None</td>\n",
       "      <td>1830-12-18</td>\n",
       "      <td>None</td>\n",
       "      <td>1830-12-09</td>\n",
       "      <td>1830.0</td>\n",
       "      <td>1830</td>\n",
       "      <td>502</td>\n",
       "    </tr>\n",
       "    <tr>\n",
       "      <td>2 V H.38a</td>\n",
       "      <td>faust://document/faustedition/2_V_H.38a</td>\n",
       "      <td>2 V H.38a</td>\n",
       "      <td>Witness</td>\n",
       "      <td>None</td>\n",
       "      <td>611</td>\n",
       "      <td>1221</td>\n",
       "      <td>1222</td>\n",
       "      <td>1403</td>\n",
       "      <td>1830-11-30</td>\n",
       "      <td>1830-06-19</td>\n",
       "      <td>1830-12-18</td>\n",
       "      <td>1830-12-18</td>\n",
       "      <td>1830-12-09</td>\n",
       "      <td>1830.0</td>\n",
       "      <td>1830</td>\n",
       "      <td>515</td>\n",
       "    </tr>\n",
       "    <tr>\n",
       "      <td>2 V H.0f</td>\n",
       "      <td>faust://document/faustedition/2_V_H.0f</td>\n",
       "      <td>2 V H.0f</td>\n",
       "      <td>Witness</td>\n",
       "      <td>None</td>\n",
       "      <td>625</td>\n",
       "      <td>1249</td>\n",
       "      <td>1250</td>\n",
       "      <td>1458</td>\n",
       "      <td>1831-04-05</td>\n",
       "      <td>1831-04-05</td>\n",
       "      <td>1831-05-05</td>\n",
       "      <td>1831-05-05</td>\n",
       "      <td>1831-04-20</td>\n",
       "      <td>1831.0</td>\n",
       "      <td>1831</td>\n",
       "      <td>461</td>\n",
       "    </tr>\n",
       "    <tr>\n",
       "      <td>2 IV H.8</td>\n",
       "      <td>faust://document/faustedition/2_IV_H.8</td>\n",
       "      <td>2 IV H.8</td>\n",
       "      <td>Witness</td>\n",
       "      <td>None</td>\n",
       "      <td>652</td>\n",
       "      <td>1303</td>\n",
       "      <td>1304</td>\n",
       "      <td>1510</td>\n",
       "      <td>1831-06-29</td>\n",
       "      <td>1831-05-29</td>\n",
       "      <td>1831-11-27</td>\n",
       "      <td>1831-11-27</td>\n",
       "      <td>1831-09-12</td>\n",
       "      <td>1831.0</td>\n",
       "      <td>1831</td>\n",
       "      <td>435</td>\n",
       "    </tr>\n",
       "  </tbody>\n",
       "</table>\n",
       "<p>154 rows × 16 columns</p>\n",
       "</div>"
      ],
      "text/plain": [
       "                                                   uri        label     kind  \\\n",
       "1 H.10            faust://document/faustedition/1_H.10       1 H.10  Witness   \n",
       "1 H.15            faust://document/faustedition/1_H.15       1 H.15  Witness   \n",
       "2 III H.2:1  faust://document/faustedition/2_III_H.2_1  2 III H.2:1  Witness   \n",
       "2 III H.4      faust://document/faustedition/2_III_H.4    2 III H.4  Witness   \n",
       "2 III H.46b  faust://document/faustedition/2_III_H.46b  2 III H.46b  Witness   \n",
       "...                                                ...          ...      ...   \n",
       "2 II H.7        faust://document/faustedition/2_II_H.7     2 II H.7  Witness   \n",
       "2 V H.33        faust://document/faustedition/2_V_H.33     2 V H.33  Witness   \n",
       "2 V H.38a      faust://document/faustedition/2_V_H.38a    2 V H.38a  Witness   \n",
       "2 V H.0f        faust://document/faustedition/2_V_H.0f     2 V H.0f  Witness   \n",
       "2 IV H.8        faust://document/faustedition/2_IV_H.8     2 IV H.8  Witness   \n",
       "\n",
       "            inscription_of  position  start_pos  end_pos  rank  \\\n",
       "1 H.10                None         1          1        2     2   \n",
       "1 H.15                None         2          3        4     2   \n",
       "2 III H.2:1           None         5          9       10     2   \n",
       "2 III H.4             None         6         11       12     2   \n",
       "2 III H.46b           None         7         13       14     2   \n",
       "...                    ...       ...        ...      ...   ...   \n",
       "2 II H.7              None       597       1193     1194  1364   \n",
       "2 V H.33              None       609       1217     1218  1397   \n",
       "2 V H.38a             None       611       1221     1222  1403   \n",
       "2 V H.0f              None       625       1249     1250  1458   \n",
       "2 IV H.8              None       652       1303     1304  1510   \n",
       "\n",
       "            max_before_date max_abs_before_date min_after_date  \\\n",
       "1 H.10                  NaN                 NaN     1800-11-09   \n",
       "1 H.15                  NaN                 NaN     1776-01-02   \n",
       "2 III H.2:1             NaN                 NaN     1826-05-26   \n",
       "2 III H.4               NaN                 NaN     1826-06-10   \n",
       "2 III H.46b             NaN                 NaN     1826-04-01   \n",
       "...                     ...                 ...            ...   \n",
       "2 II H.7         1830-06-11                None     1832-06-06   \n",
       "2 V H.33         1830-11-30                None     1830-12-18   \n",
       "2 V H.38a        1830-11-30          1830-06-19     1830-12-18   \n",
       "2 V H.0f         1831-04-05          1831-04-05     1831-05-05   \n",
       "2 IV H.8         1831-06-29          1831-05-29     1831-11-27   \n",
       "\n",
       "            min_abs_after_date         avg  avg_year    yearlabel  \\\n",
       "1 H.10                     NaN  1800-11-09    1800.0         1800   \n",
       "1 H.15              1776-01-02  1776-01-02    1776.0         1776   \n",
       "2 III H.2:1               None  1826-05-26    1826.0         1826   \n",
       "2 III H.4           1826-12-11  1826-06-10    1826.0         1826   \n",
       "2 III H.46b         1826-10-11  1826-04-01    1826.0         1826   \n",
       "...                        ...         ...       ...          ...   \n",
       "2 II H.7                  None  1831-06-09    1831.0  1830 … 1832   \n",
       "2 V H.33                  None  1830-12-09    1830.0         1830   \n",
       "2 V H.38a           1830-12-18  1830-12-09    1830.0         1830   \n",
       "2 V H.0f            1831-05-05  1831-04-20    1831.0         1831   \n",
       "2 IV H.8            1831-11-27  1831-09-12    1831.0         1831   \n",
       "\n",
       "             baseline_position  \n",
       "1 H.10                      12  \n",
       "1 H.15                      17  \n",
       "2 III H.2:1                290  \n",
       "2 III H.4                  299  \n",
       "2 III H.46b                363  \n",
       "...                        ...  \n",
       "2 II H.7                   213  \n",
       "2 V H.33                   502  \n",
       "2 V H.38a                  515  \n",
       "2 V H.0f                   461  \n",
       "2 IV H.8                   435  \n",
       "\n",
       "[154 rows x 16 columns]"
      ]
     },
     "execution_count": 67,
     "metadata": {},
     "output_type": "execute_result"
    }
   ],
   "source": [
    "mi.details.loc[refs,:]"
   ]
  },
  {
   "cell_type": "code",
   "execution_count": 63,
   "metadata": {},
   "outputs": [
    {
     "data": {
      "text/plain": [
       "AdjacencyView({SplitReference(Witness('faust://document/faustedition/H_P27'), Side.START): {0: {'kind': 'temp-pre', 'source': <macrogen.bibliography.BiblSource object at 0x7f94cc69ca90>, 'comments': ('\"vermutlich frühere Fassung auf dem Sammelblatt H P10\", \"Die auf\\n         H P27 vorliegende Niederschrift ist sehr wahrscheinlich später entstanden.\"',), 'dating': <macrogen.datings.RelativeDating object at 0x7f94cc69cb50>, 'xml': (PosixPath('macrogenesis/handschriftendatierung_pre1800.xml'), 312), 'ignore': False, 'weight': 250, 'iweight': 0.004}}})"
      ]
     },
     "execution_count": 63,
     "metadata": {},
     "output_type": "execute_result"
    }
   ],
   "source": [
    "mi.base[m.splitgraph.SplitReference(refs[0], m.splitgraph.Side.END)]"
   ]
  },
  {
   "cell_type": "code",
   "execution_count": 68,
   "metadata": {},
   "outputs": [
    {
     "name": "stderr",
     "output_type": "stream",
     "text": [
      "\u001b[32mINFO     macrogen.graph Loading macrogenesis graphs from target/single-copy/macrogen-info.zip\u001b[0m\n",
      "\u001b[32mINFO     macrogen.graph Removing edges to ignore\u001b[0m\n",
      "\u001b[32mINFO     macrogen.graph Adding 144 otherwise unmentioned references to the working graph\u001b[0m\n",
      "\u001b[32mINFO     macrogen.graph Could not remove 2 II H.8:1→2 II H.8:1 (0): The edge 2 II H.8:1-2 II H.8:1 is not in the graph.\u001b[0m\n",
      "\u001b[32mINFO     macrogen.graph Could not remove 2 II H.22→2 II H.22 (0): The edge 2 II H.22-2 II H.22 is not in the graph.\u001b[0m\n",
      "\u001b[32mINFO     macrogen.graph Could not remove 2 III H.2:1→2 III H.2:1 (0): The edge 2 III H.2:1-2 III H.2:1 is not in the graph.\u001b[0m\n",
      "\u001b[32mINFO     macrogen.graph Could not remove 2 III H.6:2→2 III H.6:2 (1): The edge 2 III H.6:2-2 III H.6:2 is not in the graph.\u001b[0m\n",
      "\u001b[32mINFO     macrogen.graph Could not remove 2 III H.30→2 III H.30 (0): The edge 2 III H.30-2 III H.30 is not in the graph.\u001b[0m\n",
      "\u001b[32mINFO     macrogen.graph Could not remove 2 III H.70→2 III H.70 (0): The edge 2 III H.70-2 III H.70 is not in the graph.\u001b[0m\n",
      "\u001b[32mINFO     macrogen.graph Could not remove 2 III H.50c→2 III H.50c (0): The edge 2 III H.50c-2 III H.50c is not in the graph.\u001b[0m\n",
      "\u001b[32mINFO     macrogen.graph Could not remove 2 III H.76→2 III H.76 (0): The edge 2 III H.76-2 III H.76 is not in the graph.\u001b[0m\n",
      "\u001b[32mINFO     macrogen.graph Could not remove 2 III H.2:2→2 III H.2:2 (0): The edge 2 III H.2:2-2 III H.2:2 is not in the graph.\u001b[0m\n",
      "\u001b[32mINFO     macrogen.graph Could not remove 2 III H.3a:2→2 III H.3a:2 (0): The edge 2 III H.3a:2-2 III H.3a:2 is not in the graph.\u001b[0m\n",
      "\u001b[32mINFO     macrogen.graph Could not remove 2 III H.3a:1→2 III H.3a:1 (0): The edge 2 III H.3a:1-2 III H.3a:1 is not in the graph.\u001b[0m\n",
      "\u001b[32mINFO     macrogen.graph Creating sort order from DAG\u001b[0m\n",
      "\u001b[32mINFO     macrogen.graph Preparing transitive closure …\u001b[0m\n",
      "\u001b[32mINFO     macrogen.graph Inferring witness detail table ..\u001b[0m\n",
      "\u001b[32mINFO     macrogen.graph Preparing details on references\u001b[0m\n",
      "\u001b[32mINFO     macrogen.graph MacrogenesisInfo loaded.\u001b[0m\n"
     ]
    }
   ],
   "source": [
    "split = mi\n",
    "single = m.MacrogenesisInfo('target/single-copy/macrogen-info.zip')"
   ]
  },
  {
   "cell_type": "code",
   "execution_count": 71,
   "metadata": {},
   "outputs": [
    {
     "data": {
      "text/plain": [
       "(SplitReference(Witness('faust://document/faustedition/2_IV_H.2'), Side.END),\n",
       " datetime.date(1831, 2, 28),\n",
       " 0,\n",
       " {'kind': 'not_after',\n",
       "  'source': <macrogen.bibliography.BiblSource at 0x7f94cce94e90>,\n",
       "  'dating': <macrogen.datings.AbsoluteDating at 0x7f94cce94ed0>,\n",
       "  'xml': (PosixPath('macrogenesis/handschriftendatierung_iv.xml'), 34),\n",
       "  'ignore': False,\n",
       "  'comments': ('Brief an Ch. P. W. F. Beuth, 22.2.1831',),\n",
       "  'weight': 75,\n",
       "  'iweight': 0.013333333333333334,\n",
       "  'delete': True})"
      ]
     },
     "execution_count": 71,
     "metadata": {},
     "output_type": "execute_result"
    }
   ],
   "source": [
    "split.conflicts[0]"
   ]
  },
  {
   "cell_type": "code",
   "execution_count": 75,
   "metadata": {},
   "outputs": [],
   "source": [
    "def cn(node):\n",
    "    return node.reference if isinstance(node, m.splitgraph.SplitReference) else node"
   ]
  },
  {
   "cell_type": "code",
   "execution_count": 76,
   "metadata": {},
   "outputs": [],
   "source": [
    "clean_split_conflicts = [(cn(u), cn(v), k, attr) for u,v,k,attr in split.conflicts]"
   ]
  },
  {
   "cell_type": "code",
   "execution_count": 78,
   "metadata": {},
   "outputs": [],
   "source": [
    "def simple_conflicts(conflicts):\n",
    "    return {(cn(u), cn(v)) for u, v, k, attr in conflicts}"
   ]
  },
  {
   "cell_type": "code",
   "execution_count": 79,
   "metadata": {},
   "outputs": [],
   "source": [
    "split_c = simple_conflicts(split.conflicts)\n",
    "single_c = simple_conflicts(single.conflicts)"
   ]
  },
  {
   "cell_type": "code",
   "execution_count": 80,
   "metadata": {},
   "outputs": [
    {
     "data": {
      "text/plain": [
       "{(AmbiguousRef('faust://document/wa/2_III_H.2'),\n",
       "  AmbiguousRef('faust://document/wa/2_III_H.2')),\n",
       " (AmbiguousRef('faust://document/wa/2_III_H.2'),\n",
       "  UnknownRef('faust://document/fischer_lamberg/2_III_H.22_2')),\n",
       " (AmbiguousRef('faust://document/wa/2_III_H.2'),\n",
       "  UnknownRef('faust://document/fischer_lamberg/2_III_H.22_3')),\n",
       " (AmbiguousRef('faust://document/wa/2_III_H.2'),\n",
       "  UnknownRef('faust://document/fischer_lamberg/2_III_H.22_4')),\n",
       " (AmbiguousRef('faust://document/wa/2_III_H.2'),\n",
       "  UnknownRef('faust://document/fischer_lamberg/2_III_H.22_5')),\n",
       " (AmbiguousRef('faust://document/wa/2_III_H.2'),\n",
       "  UnknownRef('faust://document/wa/2_III_H.2alpha')),\n",
       " (AmbiguousRef('faust://document/wa/2_III_H.2'),\n",
       "  Witness('faust://document/faustedition/2_III_H.33a')),\n",
       " (AmbiguousRef('faust://document/wa/2_III_H.2'),\n",
       "  Witness('faust://document/faustedition/2_III_H.60')),\n",
       " (AmbiguousRef('faust://document/wa/2_III_H.2'),\n",
       "  Witness('faust://document/faustedition/2_III_H.69')),\n",
       " (AmbiguousRef('faust://document/wa/2_III_H.2'),\n",
       "  Witness('faust://document/faustedition/2_III_H.72')),\n",
       " (AmbiguousRef('faust://document/wa/2_III_H.2'), datetime.date(1825, 4, 6)),\n",
       " (AmbiguousRef('faust://document/wa/2_III_H.III'),\n",
       "  AmbiguousRef('faust://document/wa/2_III_H.III')),\n",
       " (AmbiguousRef('faust://document/wa/2_III_H.III'),\n",
       "  Witness('faust://document/faustedition/2_III_H.1')),\n",
       " (UnknownRef('faust://document/fischer_lamberg/2_III_H.22_1'),\n",
       "  AmbiguousRef('faust://document/wa/2_III_H.2')),\n",
       " (Witness('faust://document/faustedition/2_III_H.22'),\n",
       "  AmbiguousRef('faust://document/wa/2_III_H.2')),\n",
       " (Witness('faust://document/faustedition/2_III_H.22'),\n",
       "  AmbiguousRef('faust://document/wa/2_III_H.6')),\n",
       " (Witness('faust://document/faustedition/2_III_H.2a_1'),\n",
       "  datetime.date(1825, 10, 1)),\n",
       " (Witness('faust://document/faustedition/2_III_H.50a'),\n",
       "  AmbiguousRef('faust://document/wa/2_III_H.2')),\n",
       " (Witness('faust://document/faustedition/2_III_H.73'),\n",
       "  AmbiguousRef('faust://document/wa/2_III_H.2')),\n",
       " (Witness('faust://document/faustedition/2_III_H.73'),\n",
       "  AmbiguousRef('faust://document/wa/2_III_H.III')),\n",
       " (Witness('faust://document/faustedition/2_III_H.74'),\n",
       "  AmbiguousRef('faust://document/wa/2_III_H.III')),\n",
       " (Witness('faust://document/faustedition/2_III_H.7_1'),\n",
       "  datetime.date(1826, 5, 19)),\n",
       " (Witness('faust://document/faustedition/2_I_H.9n_'),\n",
       "  AmbiguousRef('faust://document/wa/2_I_H.9'))}"
      ]
     },
     "execution_count": 80,
     "metadata": {},
     "output_type": "execute_result"
    }
   ],
   "source": [
    "split_c - single_c"
   ]
  },
  {
   "cell_type": "code",
   "execution_count": 82,
   "metadata": {},
   "outputs": [
    {
     "data": {
      "text/plain": [
       "55"
      ]
     },
     "execution_count": 82,
     "metadata": {},
     "output_type": "execute_result"
    }
   ],
   "source": [
    "len(single_c - split_c)"
   ]
  },
  {
   "cell_type": "code",
   "execution_count": 83,
   "metadata": {},
   "outputs": [
    {
     "data": {
      "text/plain": [
       "23"
      ]
     },
     "execution_count": 83,
     "metadata": {},
     "output_type": "execute_result"
    }
   ],
   "source": [
    "len(split_c - single_c)"
   ]
  },
  {
   "cell_type": "code",
   "execution_count": null,
   "metadata": {},
   "outputs": [],
   "source": []
  }
 ],
 "metadata": {
  "kernelspec": {
   "display_name": "faust-macrogen",
   "language": "python",
   "name": "faust-macrogen"
  },
  "language_info": {
   "codemirror_mode": {
    "name": "ipython",
    "version": 3
   },
   "file_extension": ".py",
   "mimetype": "text/x-python",
   "name": "python",
   "nbconvert_exporter": "python",
   "pygments_lexer": "ipython3",
   "version": "3.7.5rc1"
  }
 },
 "nbformat": 4,
 "nbformat_minor": 2
}
